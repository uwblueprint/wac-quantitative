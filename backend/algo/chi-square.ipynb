{
 "cells": [
  {
   "cell_type": "code",
   "execution_count": 4,
   "metadata": {},
   "outputs": [],
   "source": [
    "import numpy as np\n",
    "import pandas as pd\n",
    "import pickle\n",
    "\n",
    "from scipy.stats import chisquare"
   ]
  },
  {
   "cell_type": "code",
   "execution_count": 5,
   "metadata": {},
   "outputs": [
    {
     "name": "stdout",
     "output_type": "stream",
     "text": [
      "lol123\n"
     ]
    }
   ],
   "source": [
    "print(\"lol123\")"
   ]
  },
  {
   "cell_type": "code",
   "execution_count": 175,
   "metadata": {},
   "outputs": [],
   "source": [
    "def algo(path, cols, data):\n",
    "    # take in variable # of columns, expected freqs, \n",
    "    \n",
    "    # csv -> list of params (name of param, index of the col in the spreadsheet (in case param name wrong), options -> expected freqs)\n",
    "    df = pd.read_csv(path, index_col=None)\n",
    "    \n",
    "    for trait in data.keys():\n",
    "        obs = []\n",
    "        exp = []\n",
    "   \n",
    "        # traits to evaluate\n",
    "        print(\"\\nTRAIT:\", trait)\n",
    "        \n",
    "        for category, expected_value in data[trait].items():\n",
    "#           print(\"category, exp:\", category, expected_value)\n",
    "            \n",
    "            for ind, val in df.loc[:, trait].value_counts().items():                \n",
    "                if str(ind) == str(category):\n",
    "                    obs.append(val)\n",
    "            \n",
    "            exp.append(expected_value)\n",
    "        \n",
    "#         print(trait, \"obs:\", obs)\n",
    "#         print(trait, \"exp:\", exp)\n",
    "        \n",
    "        test_statistic, p_value = chisquare(f_obs=obs, f_exp = exp, axis=None)\n",
    "        print(trait, \"test statistic:\", test_statistic, \"p-value:\", p_value)\n",
    "\n",
    "        if p_value > 0.05 :\n",
    "            print(\"Chi-square result: green\")\n",
    "        elif p_value > 0.001:\n",
    "            print(\"Chi-square result: yellow\")\n",
    "        else: \n",
    "            print(\"Chi-square result: red\")"
   ]
  },
  {
   "cell_type": "code",
   "execution_count": 176,
   "metadata": {},
   "outputs": [
    {
     "name": "stdout",
     "output_type": "stream",
     "text": [
      "\n",
      "TRAIT: Gender\n",
      "Gender test statistic: 14.5 p-value: 0.0001401595426295644\n",
      "Chi-square result: red\n",
      "\n",
      "TRAIT: Ethnicity\n",
      "Ethnicity test statistic: 51.233333333333334 p-value: 7.495886843679975e-12\n",
      "Chi-square result: red\n"
     ]
    }
   ],
   "source": [
    "path = 'r-version/example_data.csv'\n",
    "cols = 3\n",
    "\n",
    "freq = {\n",
    "    'Gender': {\n",
    "        '1': 50,\n",
    "        '2': 50,\n",
    "    },\n",
    "    'Ethnicity': {\n",
    "        'white': 30,\n",
    "        'black': 30,\n",
    "        'other': 40,\n",
    "    },\n",
    "}\n",
    "\n",
    "algo(path, cols, freq)"
   ]
  },
  {
   "cell_type": "code",
   "execution_count": null,
   "metadata": {},
   "outputs": [],
   "source": []
  },
  {
   "cell_type": "code",
   "execution_count": null,
   "metadata": {},
   "outputs": [],
   "source": []
  },
  {
   "cell_type": "code",
   "execution_count": null,
   "metadata": {},
   "outputs": [],
   "source": [
    "#     BACKUP CODE\n",
    "\n",
    "#     shape = df.shape\n",
    "    \n",
    "#     gender = df.loc[:, 'Gender']\n",
    "#     ethnicity = df.loc[:, 'Ethnicity']\n",
    "\n",
    "#     gender_vals = gender.value_counts()\n",
    "#     eth_vals = ethnicity.value_counts()\n",
    "    \n",
    "#     print(gender_vals)\n",
    "#     print()\n",
    "#     print(eth_vals)\n",
    "\n",
    "#     gender_stat, gender_p = chisquare(gender_vals, f_exp=[50, 50], axis=None)\n",
    "#     ethnicity_stat, ethnicity_p = chisquare(eth_vals, f_exp=[30, 30, 40], axis=None)\n",
    "\n",
    "    \n",
    "#     print(\"\\ngender statistic:\", gender_stat, \"p-value:\", gender_p)\n",
    "#     print(\"ethnicity statistic:\", ethnicity_stat, \"p-value:\", ethnicity_p)\n",
    "\n",
    "#     print(\"\\nGENDER\")\n",
    "#     if gender_p > 0.05 :\n",
    "#         print(\"green\")\n",
    "#     elif gender_p > 0.001:\n",
    "#         print(\"yellow\")\n",
    "#     else: \n",
    "#         print(\"red\")\n",
    "    \n",
    "#     print(\"\\nETHNICITY\")\n",
    "#     if ethnicity_p > 0.05 :\n",
    "#         print(\"green\")\n",
    "#     elif ethnicity_p > 0.001:\n",
    "#         print(\"yellow\")\n",
    "#     else: \n",
    "#         print(\"red\")\n",
    "        "
   ]
  }
 ],
 "metadata": {
  "kernelspec": {
   "display_name": "Python 3",
   "language": "python",
   "name": "python3"
  },
  "language_info": {
   "codemirror_mode": {
    "name": "ipython",
    "version": 3
   },
   "file_extension": ".py",
   "mimetype": "text/x-python",
   "name": "python",
   "nbconvert_exporter": "python",
   "pygments_lexer": "ipython3",
   "version": "3.6.4"
  }
 },
 "nbformat": 4,
 "nbformat_minor": 2
}
